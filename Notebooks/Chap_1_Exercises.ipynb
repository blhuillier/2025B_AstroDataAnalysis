{
  "cells": [
    {
      "cell_type": "markdown",
      "metadata": {
        "colab_type": "text",
        "id": "view-in-github"
      },
      "source": [
        "<a href=\"https://colab.research.google.com/github/blhuillier/2025B_AstroDataAnalysis/blob/main/Notebooks/Chap_1_Exercises.ipynb\" target=\"_parent\"><img src=\"https://colab.research.google.com/assets/colab-badge.svg\" alt=\"Open In Colab\"/></a>"
      ]
    },
    {
      "cell_type": "markdown",
      "metadata": {
        "id": "Xdhv3cMpGYgN"
      },
      "source": [
        "Chapter 1 - FUndamentals of Probabilities"
      ]
    },
    {
      "cell_type": "markdown",
      "metadata": {
        "id": "TI-CBHEQ_Ufi"
      },
      "source": [
        "# Exercise I — Binomial Distribution and Simulation\n",
        "\n",
        "We consider the experiment: rolling a standard six-sided die and recording whether the result is at least 4.\n",
        "\n",
        "1. Theoretical questions  \n",
        "   a. What is the probability of getting $k$ successes in $N$ independent trials?  \n",
        "   b. Compute the mean $\\mu$ and standard deviation $\\sigma$ of the binomial distribution:  \n",
        "   $$\n",
        "   \\mu = Np, \\quad \\sigma = \\sqrt{Np(1-p)}\n",
        "   $$\n",
        "\n",
        "2. Simulations  \n",
        "   a. Simulate $N_1 = 10$ experiments of $N = 10$ die rolls each.  \n",
        "      - Count the number of successes in each experiment.  \n",
        "      - Plot a histogram of the number of successes.  \n",
        "      - Overlay the theoretical binomial distribution.  \n",
        "   b. Repeat with $N_1 = 100$ and $N_1 = 1000$.  \n",
        "      - Observe how the empirical distribution compares with the theoretical one.  \n",
        "\n",
        "3. (Optional) Normal approximation  \n",
        "   a. Overlay a Gaussian distribution with mean $\\mu = Np$ and standard deviation $\\sigma = \\sqrt{Np(1-p)}$ on your histogram.  \n",
        "   b. Discuss the quality of the approximation for different values of $N_1$.\n",
        "\n",
        "\n",
        "\n"
      ]
    },
    {
      "cell_type": "code",
      "execution_count": null,
      "metadata": {
        "vscode": {
          "languageId": "plaintext"
        }
      },
      "outputs": [],
      "source": []
    },
    {
      "cell_type": "markdown",
      "metadata": {},
      "source": [
        "# Exercise 2 — Die Roll Simulation\n",
        "\n",
        "We define a success as rolling at least 4 on a standard six-sided die.\n",
        "\n",
        "1. Simulations  \n",
        "   a. Write a function that simulates $N = 10$ independent die rolls and counts the number of successes.  \n",
        "   b. Run $N_1 = 10$ simulations of this process.  \n",
        "      - Count the number of successes in each run.  \n",
        "      - Compare the histogram of results to the theoretical binomial distribution with parameters $N = 10$, $p = 0.5$.  \n",
        "   c. Repeat with $N_1 = 100$ and $N_1 = 1000$ simulations.  \n",
        "      - Observe the convergence to the theoretical distribution as $N_1$ increases.\n"
      ]
    },
    {
      "cell_type": "markdown",
      "metadata": {},
      "source": []
    }
  ],
  "metadata": {
    "colab": {
      "include_colab_link": true,
      "provenance": []
    },
    "kernelspec": {
      "display_name": "Python 3",
      "language": "python",
      "name": "python3"
    },
    "language_info": {
      "codemirror_mode": {
        "name": "ipython",
        "version": 3
      },
      "file_extension": ".py",
      "mimetype": "text/x-python",
      "name": "python",
      "nbconvert_exporter": "python",
      "pygments_lexer": "ipython3",
      "version": "3.8.3"
    }
  },
  "nbformat": 4,
  "nbformat_minor": 0
}
