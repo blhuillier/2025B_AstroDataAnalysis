{
  "nbformat": 4,
  "nbformat_minor": 0,
  "metadata": {
    "kernelspec": {
      "display_name": "Python 3",
      "language": "python",
      "name": "python3"
    },
    "language_info": {
      "codemirror_mode": {
        "name": "ipython",
        "version": 3
      },
      "file_extension": ".py",
      "mimetype": "text/x-python",
      "name": "python",
      "nbconvert_exporter": "python",
      "pygments_lexer": "ipython3",
      "version": "3.8.3"
    },
    "colab": {
      "provenance": [],
      "include_colab_link": true
    }
  },
  "cells": [
    {
      "cell_type": "markdown",
      "metadata": {
        "id": "view-in-github",
        "colab_type": "text"
      },
      "source": [
        "<a href=\"https://colab.research.google.com/github/blhuillier/2024A_MathematicalAstronomy/blob/main/Notebooks/Chap_1_Exercises.ipynb\" target=\"_parent\"><img src=\"https://colab.research.google.com/assets/colab-badge.svg\" alt=\"Open In Colab\"/></a>"
      ]
    },
    {
      "cell_type": "markdown",
      "source": [
        "Chapter 1 - FUndamentals of Probabilities"
      ],
      "metadata": {
        "id": "Xdhv3cMpGYgN"
      }
    },
    {
      "cell_type": "markdown",
      "metadata": {
        "id": "TI-CBHEQ_Ufi"
      },
      "source": [
        "# Exercise 1.\n",
        "Consider the event: “rolling at least 4 on a die roll”.\n",
        "1. What is the probability of having k success in N throws?\n",
        "\n",
        "2. What is the mean and standard deviation of the number of successes?\n",
        "\n",
        "\n",
        "# Exercise 2\n",
        "1. Write a code that simulates N=10 die rolls.\n",
        "  1.  Run N1=10 simulations. Count the number of successes. Compare with the theory.\n",
        "  2.  Repeat with N1=100 and N1=1000 simulations.\n",
        "\n"
      ]
    }
  ]
}