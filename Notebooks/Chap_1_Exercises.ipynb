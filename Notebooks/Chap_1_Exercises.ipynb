{
  "cells": [
    {
      "cell_type": "markdown",
      "metadata": {
        "colab_type": "text",
        "id": "view-in-github"
      },
      "source": [
        "<a href=\"https://colab.research.google.com/github/blhuillier/2025B_AstroDataAnalysis/blob/main/Notebooks/Chap_1_Exercises.ipynb\" target=\"_parent\"><img src=\"https://colab.research.google.com/assets/colab-badge.svg\" alt=\"Open In Colab\"/></a>"
      ]
    },
    {
      "cell_type": "markdown",
      "metadata": {
        "id": "Xdhv3cMpGYgN"
      },
      "source": [
        "Chapter 1 - FUndamentals of Probabilities"
      ]
    },
    {
      "cell_type": "markdown",
      "metadata": {
        "id": "TI-CBHEQ_Ufi"
      },
      "source": [
        "# Exercise I — Binomial Distribution and Simulation\n",
        "\n",
        "We consider the experiment: rolling a standard six-sided die and recording whether the result is at least 4.\n",
        "\n",
        "1. Theoretical questions  \n",
        "   a. What is the probability of getting $k$ successes in $N$ independent trials?  \n",
        "   b. Compute the mean $\\mu$ and standard deviation $\\sigma$ of the binomial distribution:  \n",
        "   $$\n",
        "   \\mu = Np, \\quad \\sigma = \\sqrt{Np(1-p)}\n",
        "   $$\n",
        "\n",
        "2. Simulations  \n",
        "   a. Simulate $N_1 = 10$ experiments of $N = 10$ die rolls each.  \n",
        "      - Count the number of successes in each experiment.  \n",
        "      - Plot a histogram of the number of successes.  \n",
        "      - Overlay the theoretical binomial distribution.  \n",
        "   b. Repeat with $N_1 = 100$ and $N_1 = 1000$.  \n",
        "      - Observe how the empirical distribution compares with the theoretical one.  \n",
        "\n",
        "3. (Optional) Normal approximation  \n",
        "   a. Overlay a Gaussian distribution with mean $\\mu = Np$ and standard deviation $\\sigma = \\sqrt{Np(1-p)}$ on your histogram.  \n",
        "   b. Discuss the quality of the approximation for different values of $N_1$.\n",
        "\n",
        "\n",
        "\n"
      ]
    },
    {
      "cell_type": "code",
      "execution_count": 1,
      "metadata": {},
      "outputs": [],
      "source": [
        "import numpy as np\n",
        "import matplotlib.pyplot as plt\n",
        "\n",
        "from scipy import stats\n",
        "\n",
        "# Fix the seed generator to get reproducible results\n",
        "r = np.random.RandomState()\n",
        "# comment out if we want different results each time\n",
        "r.seed(42)"
      ]
    },
    {
      "cell_type": "code",
      "execution_count": 2,
      "metadata": {},
      "outputs": [
        {
          "name": "stdout",
          "output_type": "stream",
          "text": [
            "[0 1 2 3 4 5 6 7 8 9]\n",
            "[ 1  2  3  4  5  6  7  8  9 10]\n"
          ]
        }
      ],
      "source": [
        "# Numpy works with arrays: \n",
        "# we can add scalars to arrays\n",
        "\n",
        "aa = np.arange(10)\n",
        "print (aa)\n",
        "bb = aa + 1\n",
        "print (bb)"
      ]
    },
    {
      "cell_type": "code",
      "execution_count": 3,
      "metadata": {},
      "outputs": [],
      "source": [
        "# to get help on a function:\n",
        "# ?np.random\n"
      ]
    },
    {
      "cell_type": "code",
      "execution_count": 4,
      "metadata": {},
      "outputs": [],
      "source": [
        "\n",
        "# we want to know how the binomial function works\n",
        "# ?np.random.binomial\n",
        "\n",
        "\n",
        "# Set the parameters of the Bimodal distribution :\n",
        "    \n",
        "nn = 10000 # sample size\n",
        "pp = 0.3 # probability of success\n",
        "NN = 7 # number of trials\n",
        "\n",
        "# theory part:\n",
        "rv = stats.binom(NN,pp)\n",
        "\n"
      ]
    },
    {
      "cell_type": "code",
      "execution_count": 5,
      "metadata": {},
      "outputs": [],
      "source": [
        "XX = r.binomial(NN,pp, size=nn)\n",
        "\n",
        "# let's generate a second sample: \n",
        "n2 = 500\n",
        "XX2 = r.binomial(NN,pp,size=n2)\n"
      ]
    },
    {
      "cell_type": "code",
      "execution_count": 6,
      "metadata": {},
      "outputs": [
        {
          "data": {
            "text/plain": [
              "Text(0, 0.5, '$P(X=k)$')"
            ]
          },
          "execution_count": 6,
          "metadata": {},
          "output_type": "execute_result"
        },
        {
          "data": {
            "image/png": "[encoded data removed]",
            "text/plain": [
              "<Figure size 500x350 with 1 Axes>"
            ]
          },
          "metadata": {},
          "output_type": "display_data"
        }
      ],
      "source": [
        "\n",
        "fig,ax = plt.subplots(1,figsize=(5,3.5))\n",
        "\n",
        "\n",
        "ax.hist(XX) \n",
        "\n",
        "ax.set_xlabel(\"$k$\")\n",
        "ax.set_ylabel(\"$P(X=k)$\")\n",
        "\n",
        "# the bins are not appropriate, and some bins are empty"
      ]
    },
    {
      "cell_type": "code",
      "execution_count": 7,
      "metadata": {},
      "outputs": [
        {
          "name": "stdout",
          "output_type": "stream",
          "text": [
            "[-0.5  0.5  1.5  2.5  3.5  4.5  5.5  6.5  7.5]\n"
          ]
        },
        {
          "data": {
            "text/plain": [
              "Text(0, 0.5, '$P(X=k)$')"
            ]
          },
          "execution_count": 7,
          "metadata": {},
          "output_type": "execute_result"
        },
        {
          "data": {
            "image/png": "[encoded data removed]",
            "text/plain": [
              "<Figure size 500x350 with 1 Axes>"
            ]
          },
          "metadata": {},
          "output_type": "display_data"
        }
      ],
      "source": [
        "\n",
        "fig,ax = plt.subplots(1,figsize=(5,3.5))\n",
        "\n",
        "\n",
        "# let's make bins that are more appropriate\n",
        "bins = np.arange(NN+2) - 0.5\n",
        "print (bins)\n",
        "ax.hist(XX,bins=bins) \n",
        "\n",
        "ax.set_xlabel(\"$k$\")\n",
        "ax.set_ylabel(\"$P(X=k)$\")\n",
        "\n",
        "# Looks better now! let's add the second sample: "
      ]
    },
    {
      "cell_type": "code",
      "execution_count": 8,
      "metadata": {},
      "outputs": [
        {
          "name": "stdout",
          "output_type": "stream",
          "text": [
            "[-0.5  0.5  1.5  2.5  3.5  4.5  5.5  6.5  7.5]\n"
          ]
        },
        {
          "data": {
            "text/plain": [
              "Text(0, 0.5, '$P(X=k)$')"
            ]
          },
          "execution_count": 8,
          "metadata": {},
          "output_type": "execute_result"
        },
        {
          "data": {
            "image/png": "[encoded data removed]",
            "text/plain": [
              "<Figure size 500x350 with 1 Axes>"
            ]
          },
          "metadata": {},
          "output_type": "display_data"
        }
      ],
      "source": [
        "\n",
        "fig,ax = plt.subplots(1,figsize=(5,3.5))\n",
        "\n",
        "\n",
        "# let's make bins that are more appropriate\n",
        "bins = np.arange(NN+2) - 0.5\n",
        "print (bins)\n",
        "ax.hist(XX,bins=bins,alpha=0.5) # alpha: transparency\n",
        "\n",
        "ax.hist(XX2,bins=bins,alpha=0.5)\n",
        "\n",
        "ax.set_xlabel(\"$k$\")\n",
        "ax.set_ylabel(\"$P(X=k)$\")\n",
        "\n",
        "# The sizes are different so we can't compare them well. let's use normalized histograms"
      ]
    },
    {
      "cell_type": "code",
      "execution_count": 9,
      "metadata": {},
      "outputs": [
        {
          "name": "stdout",
          "output_type": "stream",
          "text": [
            "[0 1 2 3 4 5 6 7]\n"
          ]
        },
        {
          "data": {
            "text/plain": [
              "Text(0, 0.5, '$P(X=k)$')"
            ]
          },
          "execution_count": 9,
          "metadata": {},
          "output_type": "execute_result"
        },
        {
          "data": {
            "image/png": "[encoded data removed]",
            "text/plain": [
              "<Figure size 500x350 with 1 Axes>"
            ]
          },
          "metadata": {},
          "output_type": "display_data"
        }
      ],
      "source": [
        "\n",
        "fig,ax = plt.subplots(1,figsize=(5,3.5))\n",
        "\n",
        "\n",
        "\n",
        "# Now, realizations of the r.v.:\n",
        "bins = np.arange(NN+2) - 0.5\n",
        "# ax.hist(XX,bins=bins,density=True\n",
        "ax.hist(XX,bins=bins,alpha=0.5,density=True) # alpha: transparency\n",
        "\n",
        "ax.hist(XX2,bins=bins,alpha=0.5,density=True)\n",
        "\n",
        "# now let's add the theoretical PMF: \n",
        "kk = np.arange(NN+1)\n",
        "print (kk)\n",
        "ax.stem(kk, rv.pmf(kk))\n",
        "\n",
        "ax.set_xlabel(\"$k$\")\n",
        "ax.set_ylabel(\"$P(X=k)$\")"
      ]
    },
    {
      "cell_type": "markdown",
      "metadata": {},
      "source": [
        "# Exercise 2 — Die Roll Simulation\n",
        "\n",
        "We define a success as rolling at least 4 on a standard six-sided die.\n",
        "\n",
        "1. Simulations  \n",
        "   a. Write a function that simulates $N = 10$ independent die rolls and counts the number of successes.  \n",
        "   b. Run $N_1 = 10$ simulations of this process.  \n",
        "      - Count the number of successes in each run.  \n",
        "      - Compare the histogram of results to the theoretical binomial distribution with parameters $N = 10$, $p = 0.5$.  \n",
        "   c. Repeat with $N_1 = 100$ and $N_1 = 1000$ simulations.  \n",
        "      - Observe the convergence to the theoretical distribution as $N_1$ increases.\n"
      ]
    },
    {
      "cell_type": "code",
      "execution_count": null,
      "metadata": {},
      "outputs": [],
      "source": []
    },
    {
      "cell_type": "markdown",
      "metadata": {},
      "source": []
    }
  ],
  "metadata": {
    "colab": {
      "include_colab_link": true,
      "provenance": []
    },
    "kernelspec": {
      "display_name": ".venv",
      "language": "python",
      "name": "python3"
    },
    "language_info": {
      "codemirror_mode": {
        "name": "ipython",
        "version": 3
      },
      "file_extension": ".py",
      "mimetype": "text/x-python",
      "name": "python",
      "nbconvert_exporter": "python",
      "pygments_lexer": "ipython3",
      "version": "3.11.13"
    }
  },
  "nbformat": 4,
  "nbformat_minor": 0
}
