{
  "nbformat": 4,
  "nbformat_minor": 0,
  "metadata": {
    "colab": {
      "provenance": [],
      "authorship_tag": "ABX9TyNqX7L0TTuE0A9d2ibxw82c",
      "include_colab_link": true
    },
    "kernelspec": {
      "name": "python3",
      "display_name": "Python 3"
    },
    "language_info": {
      "name": "python"
    }
  },
  "cells": [
    {
      "cell_type": "markdown",
      "metadata": {
        "id": "view-in-github",
        "colab_type": "text"
      },
      "source": [
        "<a href=\"https://colab.research.google.com/github/blhuillier/2024A_MathematicalAstronomy/blob/main/Notebooks/Chap2_Exercises.ipynb\" target=\"_parent\"><img src=\"https://colab.research.google.com/assets/colab-badge.svg\" alt=\"Open In Colab\"/></a>"
      ]
    },
    {
      "cell_type": "markdown",
      "source": [
        "# Exercise 1 - Change of Variable\n",
        "\n",
        "1. Consider $X\\sim \\mathcal{E}(1)$.  \n",
        "  a. Construct $Y$ such that $Y\\sim \\mathcal{U}(0,1)$  \n",
        "  b. Make $N=1000$ realizations of $X=F^{-1}(Y)$  \n",
        "  c. Plot the histogram of $X$ and overplot the theoretical pdf"
      ],
      "metadata": {
        "id": "gvgsooLyOAj5"
      }
    },
    {
      "cell_type": "markdown",
      "source": [
        "# Exercise 2\n",
        "\n",
        "Same questions with $X\\sim  \\mathcal{N}(1,4)$."
      ],
      "metadata": {
        "id": "v9K9XaACOmUH"
      }
    }
  ]
}
