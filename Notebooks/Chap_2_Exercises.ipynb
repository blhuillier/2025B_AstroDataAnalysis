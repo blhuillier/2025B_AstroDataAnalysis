{
  "cells": [
    {
      "cell_type": "markdown",
      "metadata": {
        "colab_type": "text",
        "id": "view-in-github"
      },
      "source": [
        "<a href=\"https://colab.research.google.com/github/blhuillier/2025B_AstroDataAnalysis/blob/main/Notebooks/Chap2_Exercises.ipynb\" target=\"_parent\"><img src=\"https://colab.research.google.com/assets/colab-badge.svg\" alt=\"Open In Colab\"/></a>"
      ]
    },
    {
      "cell_type": "markdown",
      "metadata": {
        "id": "gvgsooLyOAj5"
      },
      "source": [
        "# Exercise 1 - Change of Variable\n",
        "\n",
        "1. Consider $X\\sim \\mathcal{E}(1)$.  \n",
        "  a. Construct $Y$ such that $Y\\sim \\mathcal{U}(0,1)$  \n",
        "  b. Make $N=1000$ realizations of $X=F^{-1}(Y)$  \n",
        "  c. Plot the histogram of $X$ and overplot the theoretical pdf"
      ]
    },
    {
      "cell_type": "markdown",
      "metadata": {
        "id": "v9K9XaACOmUH"
      },
      "source": [
        "# Exercise 2\n",
        "\n",
        "Same questions with $X\\sim  \\mathcal{N}(1,4)$."
      ]
    }
  ],
  "metadata": {
    "colab": {
      "authorship_tag": "ABX9TyNqX7L0TTuE0A9d2ibxw82c",
      "include_colab_link": true,
      "provenance": []
    },
    "kernelspec": {
      "display_name": "Python 3",
      "name": "python3"
    },
    "language_info": {
      "name": "python"
    }
  },
  "nbformat": 4,
  "nbformat_minor": 0
}
