{
  "nbformat": 4,
  "nbformat_minor": 0,
  "metadata": {
    "colab": {
      "provenance": [],
      "authorship_tag": "ABX9TyP09sDKOVkMzxLafWRzgxR0",
      "include_colab_link": true
    },
    "kernelspec": {
      "name": "python3",
      "display_name": "Python 3"
    }
  },
  "cells": [
    {
      "cell_type": "markdown",
      "metadata": {
        "id": "view-in-github",
        "colab_type": "text"
      },
      "source": [
        "<a href=\"https://colab.research.google.com/github/blhuillier/2024A_MathematicalAstronomy/blob/main/Notebooks/Chap_5_Bayesian_exercise.ipynb\" target=\"_parent\"><img src=\"https://colab.research.google.com/assets/colab-badge.svg\" alt=\"Open In Colab\"/></a>"
      ]
    },
    {
      "cell_type": "markdown",
      "metadata": {
        "id": "BWVKeB_uhZoR"
      },
      "source": []
    },
    {
      "cell_type": "markdown",
      "source": [
        "# Monte-Carlo Integration"
      ],
      "metadata": {
        "id": "clDGp3FaLJbL"
      }
    },
    {
      "cell_type": "code",
      "metadata": {
        "colab": {
          "base_uri": "https://localhost:8080/"
        },
        "id": "nHy634YakqR3",
        "outputId": "708a06c6-d5b8-4d5c-ae7a-e3b0fce9155c"
      },
      "source": [
        "import pandas as pd\n",
        "import ssl\n",
        "import numpy as np\n",
        "import matplotlib.pyplot as plt\n",
        "from scipy import stats\n",
        "print (pd.__version__)\n",
        "\n",
        "# print (plt.rcParams)\n",
        "mycols = ['#1f77b4', '#ff7f0e', '#2ca02c', '#d62728', '#9467bd', '#8c564b', '#e377c2', '#7f7f7f', '#bcbd22', '#17becf']"
      ],
      "execution_count": null,
      "outputs": [
        {
          "output_type": "stream",
          "name": "stdout",
          "text": [
            "2.0.3\n"
          ]
        }
      ]
    },
    {
      "cell_type": "markdown",
      "metadata": {
        "id": "2F6QU5ksUJkj"
      },
      "source": [
        "## 1. We are interested in calculating\n",
        "$$I=\\int_0^1  {\\sqrt{1-u^2}}\\mathrm{d}u$$\n",
        "\n",
        "1. Draw the integrand. What do you expect the answer will be? (do not calculate analytically!)\n",
        "\n",
        "2. Numerically calculate $I$ with the Monte-Carlo method\n",
        "\n",
        "3. Conclude"
      ]
    },
    {
      "cell_type": "code",
      "metadata": {
        "id": "rYbNIryygKf8"
      },
      "source": [],
      "execution_count": null,
      "outputs": []
    },
    {
      "cell_type": "markdown",
      "metadata": {
        "id": "kMssF5WegLCp"
      },
      "source": [
        "## 2. Let us consider  $$I=\\int_{-1}^{1} \\cos 2\\pi t \\mathrm d t$$\n",
        "\n",
        "\n",
        "\n"
      ]
    },
    {
      "cell_type": "markdown",
      "source": [
        "### 2.1 Plot the function & guess the area"
      ],
      "metadata": {
        "id": "PMimBDPpdGx3"
      }
    },
    {
      "cell_type": "code",
      "source": [],
      "metadata": {
        "id": "w-U91htgdN4i"
      },
      "execution_count": null,
      "outputs": []
    },
    {
      "cell_type": "markdown",
      "source": [
        "### 2.2 Calculate it using the Monte-Carlo Method"
      ],
      "metadata": {
        "id": "J-4T_VGlc_TX"
      }
    },
    {
      "cell_type": "code",
      "metadata": {
        "id": "_c-xum5WgUhn"
      },
      "source": [],
      "execution_count": null,
      "outputs": []
    },
    {
      "cell_type": "markdown",
      "source": [
        "# 3. Model Selection"
      ],
      "metadata": {
        "id": "zzyJJPXhQvAk"
      }
    },
    {
      "cell_type": "markdown",
      "source": [
        "In Assignment 3, we performed MCMC on the Pantheon dataset.\n",
        "\n",
        "The [Data](\"https://raw.githubusercontent.com/dscolnic/Pantheon/master/lcparam_full_long.txt\")\n",
        "and the systematics part of the covariance matrix are [here](https://raw.githubusercontent.com/dscolnic/Pantheon/master/sys_full_long.txt)\n",
        "\n",
        "Among the following models, which model fits the Pantheon supernovae compilation better? why?\n",
        "$\\Lambda$CDM, Flat $\\Lambda$CDM, $w$CDM, Flat $w$CDM"
      ],
      "metadata": {
        "id": "FdbZFbucQypd"
      }
    },
    {
      "cell_type": "markdown",
      "source": [
        "### 3.1 Which tools do you know can compare these models?"
      ],
      "metadata": {
        "id": "XsbmOeApg324"
      }
    },
    {
      "cell_type": "code",
      "metadata": {
        "id": "ctvtQnkUhcQM"
      },
      "source": [],
      "execution_count": null,
      "outputs": []
    },
    {
      "cell_type": "markdown",
      "source": [
        "## 3.2 Calculate them and rank the models."
      ],
      "metadata": {
        "id": "_M9DEo_UhCQj"
      }
    },
    {
      "cell_type": "code",
      "source": [],
      "metadata": {
        "id": "iOtusNL9hDzf"
      },
      "execution_count": null,
      "outputs": []
    }
  ]
}