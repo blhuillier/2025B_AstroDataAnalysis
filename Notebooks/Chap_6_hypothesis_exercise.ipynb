{
  "nbformat": 4,
  "nbformat_minor": 0,
  "metadata": {
    "colab": {
      "provenance": [],
      "include_colab_link": true
    },
    "kernelspec": {
      "name": "python3",
      "display_name": "Python 3"
    },
    "language_info": {
      "name": "python"
    }
  },
  "cells": [
    {
      "cell_type": "markdown",
      "metadata": {
        "id": "view-in-github",
        "colab_type": "text"
      },
      "source": [
        "<a href=\"https://colab.research.google.com/github/blhuillier/2024A_MathematicalAstronomy/blob/main/Notebooks/Chap_6_hypothesis_exercise.ipynb\" target=\"_parent\"><img src=\"https://colab.research.google.com/assets/colab-badge.svg\" alt=\"Open In Colab\"/></a>"
      ]
    },
    {
      "cell_type": "markdown",
      "metadata": {
        "id": "-bF9Fj-FinHP"
      },
      "source": [
        "# Problem I (Feigelson & Babu 7.10.1)\n",
        "\n",
        "Let's test the QSO data for correlation.\n",
        "\n",
        "1. Download the data from https://astrostatistics.psu.edu/MSMA/datasets/SDSS_QSO.dat. Consider only data with  $18<𝑖<22$. Remove the outlier points.\n",
        "\n",
        "2. Estimate the Pearson correlation coefficient.\n",
        "\n",
        "3. Apply the correlation test to the $i$- and $z$-band. What is the p-value? Are the data correlated? Is it consistent with your expectation?\n",
        "\n",
        "4. Randomly select 10 points. Redo the analysis. How do the results change?"
      ]
    },
    {
      "cell_type": "code",
      "source": [],
      "metadata": {
        "id": "eyrbnVNW_swg"
      },
      "execution_count": null,
      "outputs": []
    },
    {
      "cell_type": "markdown",
      "metadata": {
        "id": "Wchf8iCuLkRT"
      },
      "source": [
        "# Problem II.\n",
        "\n",
        "We want to see whether we can distinguish between distributions. Le'ts start with the Normal and the Student distributions. For large $M$, $t_M\\rightarrow \\mathcal{N}(0,1)$.\n",
        "\n",
        "1. Generate two samples $X_1$ and $X_2$ of size $N_1$ and $N_2$, where $X_1\\sim \\mathcal N(0,1)$ and $X_2 \\sim  t_{N_2}$ and $X_3\\sim t_{N_3}$, with $N_2=3, N_3=100$.\n",
        "\n",
        "2. Plot the three theoretical distributions and overplot the histograms of $X_1$, $X_2$, and $X_3$\n",
        "\n",
        "3. Plot the Empirical Distribution Functions of the three samples.\n",
        "\n",
        "4. Plot the Q-Q diagram of ($X_1$,$\\mathcal N(0,1)$), ($X_2$, $t_{N_2}$),  ($X_3$, $t_{N_3}$).\n",
        "Plot the Q-Q diagrams of    $(X_1,X_2)$ and $(X_1,X_3)$ . What can you say about the two pairs of distribution?\n",
        "\n",
        "5. Let's use the Kolmogorov-Smirnov test to see if $X_1$ is consistent with $\\mathcal{N}(0,1)$.\n",
        "Can $X_1$ have been drawn from a $\\mathcal N(0.1,\\sqrt{2})$?\n",
        " Same with $X_2$ and $X_3$.\n",
        " Apply the 2-samples KS test to $X_1,X_2$ and $(X_1,X_3)$ to decide whether the samples can have been drawn from the same distributions.\n",
        "\n",
        "6. Let's apply the Anderson-Darling test. First test whether $X_1$ and $X_2$ can be drawn from a $\\mathcal{N}(0,1)$\n",
        "\n",
        ""
      ]
    },
    {
      "cell_type": "markdown",
      "metadata": {
        "id": "1z9dxQEkMqlQ"
      },
      "source": [
        "# Problem III (Feigelson & Babu 5.9)\n",
        "\n",
        "Read the Milky Way and M31 globular cluster data from\n",
        "https://astrostatistics.psu.edu/MSMA/datasets/GlobClus_MWG.dat\n",
        "\n",
        "https://astrostatistics.psu.edu/MSMA/datasets/GlobClus_M31.dat M31 is furhter, therefore the apparent magnitude is fainter. Let's apply a correction for the distance:  𝐾M31=𝐾M31−24.90 .\n",
        "\n",
        "What are the mean and standard deviations of the samples?\n",
        "\n",
        "Plot the empirical distribution functions of both samples on the same plot\n",
        "\n",
        "We want to test whether both distributions can be drawn from a Gaussian Distribution. Please note that here, the Kolmogorov-Smirnov test is not correct: we cannot apply the KS test when we estimate the parameter of the distribution from the data.\n",
        "\n",
        "Plot the Q-Q plot for MW and M31, and Q-Q plot for each of them and a Gaussian distribution. Do they seem to be drawn from a Gaussian distribution? from the same distribution?"
      ]
    },
    {
      "cell_type": "code",
      "source": [],
      "metadata": {
        "id": "zUECGDSp_tqG"
      },
      "execution_count": null,
      "outputs": []
    }
  ]
}