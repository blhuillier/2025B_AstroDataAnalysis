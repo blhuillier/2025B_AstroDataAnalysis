{
  "nbformat": 4,
  "nbformat_minor": 0,
  "metadata": {
    "colab": {
      "provenance": [],
      "authorship_tag": "ABX9TyMWDgIb0oPt/FqWAUkm4rfy",
      "include_colab_link": true
    },
    "kernelspec": {
      "name": "python3",
      "display_name": "Python 3"
    },
    "language_info": {
      "name": "python"
    }
  },
  "cells": [
    {
      "cell_type": "markdown",
      "metadata": {
        "id": "view-in-github",
        "colab_type": "text"
      },
      "source": [
        "<a href=\"https://colab.research.google.com/github/blhuillier/2024A_MathematicalAstronomy/blob/main/Notebooks/2024A_Astrostats_Chap7_Resampling.ipynb\" target=\"_parent\"><img src=\"https://colab.research.google.com/assets/colab-badge.svg\" alt=\"Open In Colab\"/></a>"
      ]
    },
    {
      "cell_type": "code",
      "metadata": {
        "id": "vUMNIDYbzA1I"
      },
      "source": [
        "import numpy as np\n",
        "from scipy import stats\n",
        "import matplotlib.pyplot as plt\n",
        "mycols = ['#1f77b4', '#ff7f0e', '#2ca02c', '#d62728', '#9467bd', '#8c564b', '#e377c2', '#7f7f7f', '#bcbd22', '#17becf']"
      ],
      "execution_count": null,
      "outputs": []
    },
    {
      "cell_type": "markdown",
      "metadata": {
        "id": "EpuPbClijPbG"
      },
      "source": [
        "# Example 1. Jackknife\n",
        "$$\\theta = S^2(X) = \\frac 1 N \\sum_{i=1}^N (X_i-\\bar X)^2$$"
      ]
    },
    {
      "cell_type": "code",
      "metadata": {
        "id": "O3cz-pm5jdrs"
      },
      "source": [],
      "execution_count": null,
      "outputs": []
    },
    {
      "cell_type": "markdown",
      "metadata": {
        "id": "Ug9dvaPkjPgI"
      },
      "source": [
        "# Example 2: Unbiased varaince estimator\n",
        "\n"
      ]
    },
    {
      "cell_type": "code",
      "metadata": {
        "id": "WM1xhJHvk_Na"
      },
      "source": [],
      "execution_count": null,
      "outputs": []
    },
    {
      "cell_type": "markdown",
      "metadata": {
        "id": "bRhpIDeqzI1j"
      },
      "source": [
        "# Exercise - Jacknife\n",
        "\n",
        "1. Perform a linear fit with the model:\n",
        "$$y = ax^2 + b x + c$$\n",
        "\n",
        "2. Estimate (a,b,c) with the Jacknife:\n",
        "  1. estimate the pseudovalues\n",
        "  2. Give the mean and standard deviation of $(a,b,c)$\n",
        "  2. Make a histogram of the pseudo-values\n",
        "  2. make a triangle plot of the pseudo-values"
      ]
    },
    {
      "cell_type": "code",
      "metadata": {
        "id": "Zb9tLK1OzZaN"
      },
      "source": [],
      "execution_count": null,
      "outputs": []
    },
    {
      "cell_type": "markdown",
      "metadata": {
        "id": "StDEqQXnfCNJ"
      },
      "source": [
        "# Exercise: Bootstrapping\n",
        "\n",
        "1. Estimate the parameters and their error with the bootstrap method\n"
      ]
    },
    {
      "cell_type": "code",
      "metadata": {
        "id": "gdDiMXKVfJj9"
      },
      "source": [],
      "execution_count": null,
      "outputs": []
    }
  ]
}
