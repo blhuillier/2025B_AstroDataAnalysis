{
  "nbformat": 4,
  "nbformat_minor": 0,
  "metadata": {
    "colab": {
      "provenance": [],
      "authorship_tag": "ABX9TyOL2VmQXXbFg9iBYVYKMRmb",
      "include_colab_link": true
    },
    "kernelspec": {
      "name": "python3",
      "display_name": "Python 3"
    }
  },
  "cells": [
    {
      "cell_type": "markdown",
      "metadata": {
        "id": "view-in-github",
        "colab_type": "text"
      },
      "source": [
        "<a href=\"https://colab.research.google.com/github/blhuillier/20224A_MathematicalAstronomy/blob/main/Lecture_4_Least_Squares_exercises.ipynb\" target=\"_parent\"><img src=\"https://colab.research.google.com/assets/colab-badge.svg\" alt=\"Open In Colab\"/></a>"
      ]
    },
    {
      "cell_type": "markdown",
      "metadata": {
        "id": "mz5mtYMoSwBc"
      },
      "source": [
        "# Exercise I. Ordinary Least Squares\n",
        "\n",
        "We want to model a system such that\n",
        "$$Y = f(X) = a X^2 + b X + c,$$\n",
        "where $(a,b,c)$ are the parameter of the model.\n",
        "\n",
        "1. Write the system as an ordinary least square problem\n",
        "\n",
        "2. Generate $N$ points for $X_i\\sim \\mathcal U(0,1)$\n",
        "\n",
        "3. Set $(a,b,c) = (1,-2,3)$, and generate the corresponding $Y_i = f(X_i) + \\varepsilon$,\n",
        "where $\\varepsilon \\simeq \\mathcal{N}(0,0.5^2)$.\n",
        "\n",
        "4. Overplot the true model and the realizations $(X_i,Y_i)$.\n",
        "\n",
        "5. Calculate the OLS solution and find the best-fit parameters $(\\hat a, \\hat b, \\hat c)$\n",
        "\n",
        "(6. Redo the same thing assuming $\\epsilon\\sim\\mathcal{N}(0,\\mathop{\\mathrm{diag}}(\\sigma_i^2)$),\n",
        "with $\\sigma_i = 0.5 (1+X_i)$\n"
      ]
    },
    {
      "cell_type": "code",
      "metadata": {
        "id": "afRKp_IVjxC2"
      },
      "source": [
        "\n"
      ],
      "execution_count": null,
      "outputs": []
    },
    {
      "cell_type": "markdown",
      "metadata": {
        "id": "s3Tu84jtKwil"
      },
      "source": [
        "Pandas is a useful python library to deal with data: Let's take a look at the tutorial:\n",
        "\n",
        "https://pandas.pydata.org/docs/user_guide/10min.html\n",
        "\n"
      ]
    },
    {
      "cell_type": "markdown",
      "metadata": {
        "id": "Y_lElJu-UmvA"
      },
      "source": [
        "# Exercise II. (From Feigelson & Babu)\n",
        "\n",
        "1. Download the example QSO SDSS sample: https://astrostatistics.psu.edu/MSMA/datasets/SDSS_QSO.dat\n",
        "\n",
        "2. You can use pandas to play with the data (I'll introduce it). The goal is to study the linear dependency of $z$-band on the $i$ band. It is not particularly physically interesting but at least you get to play with real data.\n",
        "\n",
        "3. Select QSO with $18<i<22$ and fix values with $\\sigma_z<0.01$ to 0.01. This prevents weird behaviours for abnormally small errors. You can also choose to remove QSO with $\\sigma_z<0.01$.\n",
        "\n",
        "4. Make a linear regression using the ordinary least square (ignore the errors in $z$.\n",
        "\n",
        "5. Now let's consider the $z$-band error. Make a linear regression using the weighted least squares.\n",
        "\n"
      ]
    },
    {
      "cell_type": "code",
      "source": [],
      "metadata": {
        "id": "RSdTE19-hAMJ"
      },
      "execution_count": null,
      "outputs": []
    },
    {
      "cell_type": "markdown",
      "metadata": {
        "id": "t4IhT-1w0UDD"
      },
      "source": [
        "# Exercise III. (From Feidelson & Babu)\n",
        "\n",
        "Fitting a Sersic Profile.\n",
        "$$\n",
        "\\begin{align}\n",
        "\\mu(r) & = \\mu_0 - 2.5 \\log_{10} I(r)\\\\\n",
        "\\log_{10} I(r) & = \\log_{10} I_e + b_n\\left[\\left(\\frac r {r_e}\\right)^{1/n}-1\\right]\\\\\n",
        "b_n & = -0.868n+0.142\n",
        "\\end{align}\n",
        "$$\n",
        "We can rewrite it as\n",
        "$$\n",
        "\\begin{align}\n",
        "\\mu(r) = A-2.5 b_n\\left[\\left(\\frac r {r_e}\\right)^{1/n}-1\\right]\n",
        "\\end{align}\n",
        "$$\n",
        "\n",
        "\n",
        "1. Download the NGC4472 data:  http://astrostatistics.psu.edu/MSMA/datasets/NGC4472_profile.dat\n",
        "\n",
        "2. Plot the data\n",
        "\n",
        "3. Plot the prediction $\\mu(r;\\theta)$ for different values of $\\theta$. Calculate the corresponding\n",
        "$$\\chi^2 = \\sum (\\mu_i-\\mu(r_i;A,n,r_e))^2$$\n",
        "\n",
        "4. Plot $\\chi^2(A=23,n,r_e)$\n",
        "\n",
        "5. Fit the Sersic profile: find the non-linear least-square parameters\n",
        "\n",
        "6. Plot the residuals\n",
        "\n",
        "7. Same with http://astrostatistics.psu.edu/MSMA/datasets/NGC4406_profile.dat and http://astrostatistics.psu.edu/MSMA/datasets/NGC4551_profile.dat\n",
        "\n"
      ]
    },
    {
      "cell_type": "code",
      "source": [],
      "metadata": {
        "id": "VI54nBODhBIl"
      },
      "execution_count": null,
      "outputs": []
    }
  ]
}
