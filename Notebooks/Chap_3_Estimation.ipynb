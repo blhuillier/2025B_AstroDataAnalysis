{
  "nbformat": 4,
  "nbformat_minor": 0,
  "metadata": {
    "colab": {
      "provenance": [],
      "include_colab_link": true
    },
    "kernelspec": {
      "name": "python3",
      "display_name": "Python 3"
    }
  },
  "cells": [
    {
      "cell_type": "markdown",
      "metadata": {
        "id": "view-in-github",
        "colab_type": "text"
      },
      "source": [
        "<a href=\"https://colab.research.google.com/github/blhuillier/2024A_MathematicalAstronomy/blob/main/Notebooks/Chap_3_Estimation.ipynb\" target=\"_parent\"><img src=\"https://colab.research.google.com/assets/colab-badge.svg\" alt=\"Open In Colab\"/></a>"
      ]
    },
    {
      "cell_type": "markdown",
      "source": [
        "# Exercises for Chapter 3 - Estimation\n",
        "Benjamin L'Huillier.\n",
        "Spring 2024"
      ],
      "metadata": {
        "id": "vWzOjQURsUeq"
      }
    },
    {
      "cell_type": "markdown",
      "metadata": {
        "id": "mz5mtYMoSwBc"
      },
      "source": [
        "# Exercise 1\n",
        "\n",
        "Let's apply the example:\n",
        "\n",
        "Consider the geometric distribution\n",
        "$$f(x,p) = p(1-p)^{x-1}$$\n",
        "The expected value is $1/p$ (You can try to prove it if you want)\n",
        "\n",
        "1. Generate $N=1000$ data points with $p\\in[0,1]$ of your choice.\n",
        "\n",
        "2.  Apply the MLE estimator that we just saw, and estimate $\\hat p$.\n",
        "\n"
      ]
    },
    {
      "cell_type": "markdown",
      "metadata": {
        "id": "J6EpVFlqZMU_"
      },
      "source": [
        "# Exercise II\n",
        "Exercise 4.7.1 from Feigelson & Babu.\n",
        "\n",
        "The pareto law is a truncated power law. It is used to describe self-similar processes. For instance, the Salpeter IMF.\n",
        "Its pdf is:\n",
        "$$\n",
        "f(x)  = \\begin{cases}\n",
        "\\frac{\\alpha b^\\alpha}{x^{\\alpha+1}} & x\\geq b\\\\\n",
        "0 &\\mbox{else}.\n",
        "\\end{cases}\n",
        "$$\n",
        "for $\\alpha>0,b>0$.\n",
        "\n",
        "1. Calculate the Cumulative distribution function $F$.\n",
        "\n",
        "2. Generate 500 iid random variables $(U_1,\\dots,U_N) \\sim\\mathcal{U}(0,1)$. Construct $X_i = \\phi(U_i)$ such that $X_i\\sim \\mathrm{Pareto}(b,\\alpha)$ with $b=1, \\alpha = 1.35$.\n",
        "\n",
        "3. Show that the MLE estimator of the pareto law are:\n",
        "$$\\begin{align}\n",
        "\\hat b & = \\min X_i\\\\\n",
        "\\hat \\alpha & = \\frac N {\\sum_i \\ln \\frac {X_i}{b}}.\n",
        "\\end{align}\n",
        "$$\n",
        "Calculate the estimators for the generated sample.\n",
        "\n",
        "5. It can be shown that the MLE estimators are biased. Let us consider another set of estimators:\n",
        "$$\\begin{align}\n",
        "\\alpha^* & = \\left(1-\\frac 2 N\\right)\\hat\\alpha\\\\\n",
        "b^* & = \\left(1-\\frac 1 {(N-1)\\hat\\alpha}\\right)\\hat b.\n",
        "\\end{align}\n",
        "$$\n",
        "Calculate these two estimators for our generated sample.\n",
        "\n",
        "5. Estimate the parameters with the method of the moments.\n",
        "\n",
        "  a. Show that the expected value for a Pareto distribution with $\\alpha>1$ is\n",
        "  $$E[X] = \\frac {\\alpha b}{\\alpha-1}.$$\n",
        "  Since in our case, $\\alpha <2,$\n",
        "  the variance is not defined.\n",
        "\n",
        "  b. Suppose we know $b=1$. Express $\\alpha$ as a function of the moments.\n",
        "\n",
        "  c. Estimate $\\alpha$ witht he method of the moments.\n",
        "\n",
        "6. Calculate the bias and variance for these estimators.\n",
        "\n"
      ]
    },
    {
      "cell_type": "markdown",
      "metadata": {
        "id": "iix-2cz-ycXv"
      },
      "source": [
        "# Exercice III.\n",
        "\n",
        "Let us verify the confidence interval on the mean for\n",
        "$$X\\sim\\mathcal N(\\mu,\\sigma^2)$$\n",
        "\n",
        "\n",
        "1. Generate one realization of $(X_1,\\dots,X_N)\\sim\\mathcal N(\\mu,\\sigma^2)$ for the $\\mu,\\sigma$ of your choice.\n",
        "\n",
        "2. Assume we know $\\sigma^2$. Estimate the 95% confidence interval on $\\mu$.\n",
        "\n",
        "\n",
        "3. Repeat the experiment $N_\\mathrm{exp}=1000$ times. How many times is $\\mu$ in your confidence interval?\n",
        "\n",
        "\n",
        "4. Now, forget that we know $\\sigma^2$. Calculate the sample mean $\\bar X$ and the (unbiased) sample Variance $S_N$. Estimate the 95% confidence interval on $\\mu$ pretending you don't know $\\sigma$\n"
      ]
    },
    {
      "cell_type": "markdown",
      "source": [
        "# Exercies 4\n",
        "\n",
        "1. Generate $X\\sim \\chi^2_N$, with $N=3$"
      ],
      "metadata": {
        "id": "0xDYy_P0ItZ2"
      }
    }
  ]
}